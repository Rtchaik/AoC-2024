{
 "cells": [
  {
   "cell_type": "code",
   "execution_count": null,
   "id": "9990cd40-c949-4e45-a8ab-93ded635fadf",
   "metadata": {},
   "outputs": [],
   "source": [
    "import re\n",
    "from math import lcm\n",
    "import numpy as np\n",
    "from z3 import *"
   ]
  },
  {
   "cell_type": "code",
   "execution_count": null,
   "id": "0924bf6e-6808-419a-97e7-8f9c8969ea7a",
   "metadata": {
    "editable": true,
    "slideshow": {
     "slide_type": ""
    },
    "tags": []
   },
   "outputs": [],
   "source": [
    "def parse_data(my_file) -> list:\n",
    "    with open(my_file) as f:\n",
    "        return [\n",
    "            [int(num) for num in re.findall(r\"\\d+\", machine)]\n",
    "            for machine in f.read().split(\"\\n\\n\")\n",
    "        ]"
   ]
  },
  {
   "cell_type": "code",
   "execution_count": null,
   "id": "39923227-e3bd-4609-a75a-8f19f0fca5e2",
   "metadata": {},
   "outputs": [],
   "source": [
    "def part1_z3(data: list, conversion: int = 0) -> int:\n",
    "    tockens = 0\n",
    "    for machine in data:\n",
    "        ax, ay, bx, by, x, y = machine\n",
    "        x += conversion\n",
    "        y += conversion\n",
    "        a, b = Ints(\"a b\")\n",
    "        s = Solver()\n",
    "        s.add(ax * a + bx * b == x, ay * a + by * b == y)\n",
    "        if s.check() == sat:\n",
    "            res = s.model()\n",
    "            tockens += res[a].as_long() * 3 + res[b].as_long()\n",
    "    return int(tockens)"
   ]
  },
  {
   "cell_type": "code",
   "execution_count": null,
   "id": "fc89e418-3598-4a87-89f4-093b16b1f967",
   "metadata": {},
   "outputs": [],
   "source": [
    "def part1_numpy(data: list, conversion: int = 0) -> int:\n",
    "    tockens = 0\n",
    "    for machine in data:\n",
    "        ax, ay, bx, by, x, y = machine\n",
    "        x += conversion\n",
    "        y += conversion\n",
    "        a, b = np.linalg.solve([[ax, bx], [ay, by]], [x, y])\n",
    "        if not all(round(num, 3) % 1 for num in (a, b)):\n",
    "            tockens += a * 3 + b\n",
    "    return int(tockens)"
   ]
  },
  {
   "cell_type": "code",
   "execution_count": null,
   "id": "4e5aa178-8196-44d6-b5b9-bc89496c5309",
   "metadata": {},
   "outputs": [],
   "source": [
    "def part1(data: list, conversion: int = 0) -> int:\n",
    "    tockens = 0\n",
    "    for machine in data:\n",
    "        ax, ay, bx, by, x, y = machine\n",
    "        x += conversion\n",
    "        y += conversion\n",
    "        cur_lcm = lcm(ax, ay)\n",
    "        ax_lcm = cur_lcm / ax\n",
    "        ay_lcm = cur_lcm / ay\n",
    "        b = (x * ax_lcm - y * ay_lcm) / (bx * ax_lcm - by * ay_lcm)\n",
    "        a = (x - b * bx) / ax\n",
    "        if not (a % 1 and b % 1):\n",
    "            tockens += a * 3 + b\n",
    "    return int(tockens)"
   ]
  },
  {
   "cell_type": "code",
   "execution_count": null,
   "id": "57f151fa-485f-4c3d-af2a-9ffb4c943cac",
   "metadata": {},
   "outputs": [],
   "source": [
    "def part2(data: list) -> int:\n",
    "    return part1(data, 10000000000000)"
   ]
  },
  {
   "cell_type": "code",
   "execution_count": null,
   "id": "3983ab32-a643-4f84-9a29-7c0f18d9455c",
   "metadata": {},
   "outputs": [],
   "source": [
    "%%time\n",
    "data = parse_data('raw.txt')\n",
    "print('Part 1: ', part1(data))\n",
    "print('Part 2: ', part2(data))"
   ]
  },
  {
   "cell_type": "code",
   "execution_count": null,
   "id": "b6630092",
   "metadata": {},
   "outputs": [],
   "source": []
  }
 ],
 "metadata": {
  "kernelspec": {
   "display_name": "base",
   "language": "python",
   "name": "python3"
  },
  "language_info": {
   "codemirror_mode": {
    "name": "ipython",
    "version": 3
   },
   "file_extension": ".py",
   "mimetype": "text/x-python",
   "name": "python",
   "nbconvert_exporter": "python",
   "pygments_lexer": "ipython3",
   "version": "3.11.10"
  }
 },
 "nbformat": 4,
 "nbformat_minor": 5
}
