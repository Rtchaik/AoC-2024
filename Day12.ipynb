{
 "cells": [
  {
   "cell_type": "code",
   "execution_count": 3,
   "id": "e72b9304-047a-4d1c-9339-ea57c356c210",
   "metadata": {},
   "outputs": [],
   "source": [
    "from collections import defaultdict"
   ]
  },
  {
   "cell_type": "code",
   "execution_count": 4,
   "id": "0924bf6e-6808-419a-97e7-8f9c8969ea7a",
   "metadata": {
    "editable": true,
    "slideshow": {
     "slide_type": ""
    },
    "tags": []
   },
   "outputs": [],
   "source": [
    "def parse_data(my_file) -> list:\n",
    "    with open(my_file) as f:\n",
    "        garden = defaultdict(set)\n",
    "        for y, line in enumerate(f.readlines()):\n",
    "            for x,ch in enumerate(line.strip()):\n",
    "                garden[ch].add(y+x*1j)\n",
    "        return garden"
   ]
  },
  {
   "cell_type": "code",
   "execution_count": 5,
   "id": "bdbc23a7-2348-4a59-8176-a3e72c7c61a1",
   "metadata": {
    "scrolled": true
   },
   "outputs": [],
   "source": [
    "def find_fences(data:list) -> int:\n",
    "    totals = []\n",
    "    for v in data.values():\n",
    "        total = []\n",
    "        while v:\n",
    "            fences = []\n",
    "            current = {v.pop()}\n",
    "            region = current\n",
    "            while current:\n",
    "                new = set()\n",
    "                for coord in current:\n",
    "                    neighbours = {coord + d for d in [-1, 1, -1j, 1j]}\n",
    "                    new_fence = neighbours-v-region\n",
    "                    fences.extend((f,f-coord) for f in new_fence)\n",
    "                    new |= (neighbours - region - new_fence)\n",
    "                region |= new\n",
    "                current = new\n",
    "            total.append((region,fences))\n",
    "            v-=region\n",
    "        totals.append(total)\n",
    "    return totals"
   ]
  },
  {
   "cell_type": "code",
   "execution_count": 6,
   "id": "57f151fa-485f-4c3d-af2a-9ffb4c943cac",
   "metadata": {},
   "outputs": [],
   "source": [
    "def part1(data:list) -> int:\n",
    "    return sum(len(r)*len(f) for letter in data for r,f in letter)"
   ]
  },
  {
   "cell_type": "code",
   "execution_count": 7,
   "id": "54284c2e-432d-4ec2-8162-50b182f60bcf",
   "metadata": {},
   "outputs": [],
   "source": [
    "def part2(data:list) -> int:\n",
    "    res =0\n",
    "    for letter in data:\n",
    "        for region,current in letter:\n",
    "            total=0\n",
    "            for plant, direction in current:\n",
    "                if (plant-direction*-1j,direction) not in current:\n",
    "                    total+=1\n",
    "            res+=total*len(region)\n",
    "    return res"
   ]
  },
  {
   "cell_type": "code",
   "execution_count": null,
   "id": "60aa3dd1-6b94-419c-9817-303081e04ccb",
   "metadata": {},
   "outputs": [],
   "source": []
  }
 ],
 "metadata": {
  "kernelspec": {
   "display_name": "anaconda-ai-2024.04-py310",
   "language": "python",
   "name": "conda-env-anaconda-ai-2024.04-py310-py"
  },
  "language_info": {
   "codemirror_mode": {
    "name": "ipython",
    "version": 3
   },
   "file_extension": ".py",
   "mimetype": "text/x-python",
   "name": "python",
   "nbconvert_exporter": "python",
   "pygments_lexer": "ipython3",
   "version": "3.10.13"
  }
 },
 "nbformat": 4,
 "nbformat_minor": 5
}
