{
 "cells": [
  {
   "cell_type": "code",
   "execution_count": null,
   "id": "6e49c67a-35de-46f7-b670-a71d55a42211",
   "metadata": {},
   "outputs": [],
   "source": [
    "import re\n",
    "from functools import cache\n",
    "from collections import defaultdict"
   ]
  },
  {
   "cell_type": "code",
   "execution_count": null,
   "id": "0924bf6e-6808-419a-97e7-8f9c8969ea7a",
   "metadata": {
    "editable": true,
    "slideshow": {
     "slide_type": ""
    },
    "tags": []
   },
   "outputs": [],
   "source": [
    "def parse_data(my_file) -> list:\n",
    "    with open(my_file) as f:\n",
    "        return [line.strip() for line in f.readlines()]"
   ]
  },
  {
   "cell_type": "code",
   "execution_count": null,
   "id": "89e92a7b-bf8b-4aba-bc5b-d18e432318c5",
   "metadata": {},
   "outputs": [],
   "source": [
    "def coords(keys: list) -> dict:\n",
    "    result = {}\n",
    "    for y, line in enumerate(keys):\n",
    "        for x, ch in enumerate(line):\n",
    "            result[ch] = y + x * 1j\n",
    "    del result[' ']\n",
    "    return result"
   ]
  },
  {
   "cell_type": "code",
   "execution_count": null,
   "id": "83e5b95e-7410-45a5-b94e-619585c4f974",
   "metadata": {},
   "outputs": [],
   "source": [
    "@cache\n",
    "def level(code: str, is_dir: bool = True) -> list:\n",
    "    global num_keys\n",
    "    global dir_keys\n",
    "    keypad = dir_keys if is_dir else num_keys\n",
    "    route = []\n",
    "    current = 'A'\n",
    "    for new in code:\n",
    "        new_route = keypad[new] - keypad[current]\n",
    "        horisontal = abs(int(new_route.imag))*('<' if new_route.imag < 0 else '>')\n",
    "        vertical = abs(int(new_route.real)) * ('^' if new_route.real < 0 else 'v')\n",
    "        if not is_dir and ((new_route.imag < 0 and not (new in ('1','4','7') and current in ('0','A'))) or (new in ('0','A') and current in ('1','4','7'))):\n",
    "            route.append(horisontal+vertical+'A')\n",
    "        elif is_dir and (current == '<' or (new in ['^','v'] and current in ['>','A'])):\n",
    "            route.append(horisontal+vertical+'A')\n",
    "        else:\n",
    "            route.append(vertical+horisontal+'A')\n",
    "        current = new\n",
    "    return route"
   ]
  },
  {
   "cell_type": "code",
   "execution_count": null,
   "id": "7dd37628-9ae9-4d08-9acb-07aea51a2109",
   "metadata": {},
   "outputs": [],
   "source": [
    "def complexities(data: list, keypads:int = 2) -> int:\n",
    "    result = 0\n",
    "    for code in data:\n",
    "        current = defaultdict(int)\n",
    "        for item in level(code, False):\n",
    "            current[item] += 1\n",
    "        for _ in range(keypads):\n",
    "            new = defaultdict(int)\n",
    "            for k,v in current.items():\n",
    "                for l in level(k):\n",
    "                    new[l]+=v\n",
    "            current = new\n",
    "        result += int(code[:-1])*sum(len(k)*v for k,v in current.items())\n",
    "    return result"
   ]
  },
  {
   "cell_type": "code",
   "execution_count": null,
   "id": "3983ab32-a643-4f84-9a29-7c0f18d9455c",
   "metadata": {
    "scrolled": true
   },
   "outputs": [],
   "source": [
    "%%time\n",
    "data = parse_data('raw.txt')\n",
    "num_keys = coords(['789','456','123',' 0A'])\n",
    "dir_keys = coords([' ^A', '<v>'])\n",
    "print('Part 1: ', complexities(data))\n",
    "print('Part 2: ', complexities(data,25))"
   ]
  },
  {
   "cell_type": "code",
   "execution_count": null,
   "id": "65ed4020-2161-4787-a0db-e51931df195b",
   "metadata": {},
   "outputs": [],
   "source": [
    "#tests\n",
    "test1 = parse_data('test_raw.txt')\n",
    "assert complexities(test1) == 126384"
   ]
  }
 ],
 "metadata": {
  "kernelspec": {
   "display_name": "anaconda-ai-2024.04-py310",
   "language": "python",
   "name": "conda-env-anaconda-ai-2024.04-py310-py"
  },
  "language_info": {
   "codemirror_mode": {
    "name": "ipython",
    "version": 3
   },
   "file_extension": ".py",
   "mimetype": "text/x-python",
   "name": "python",
   "nbconvert_exporter": "python",
   "pygments_lexer": "ipython3",
   "version": "3.10.13"
  }
 },
 "nbformat": 4,
 "nbformat_minor": 5
}
