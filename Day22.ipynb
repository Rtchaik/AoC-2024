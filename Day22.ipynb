{
 "cells": [
  {
   "cell_type": "code",
   "execution_count": null,
   "id": "d98b96ed-ae12-45fe-b960-a1b038534daa",
   "metadata": {},
   "outputs": [],
   "source": [
    "from collections import defaultdict"
   ]
  },
  {
   "cell_type": "code",
   "execution_count": null,
   "id": "0924bf6e-6808-419a-97e7-8f9c8969ea7a",
   "metadata": {
    "editable": true,
    "slideshow": {
     "slide_type": ""
    },
    "tags": []
   },
   "outputs": [],
   "source": [
    "def parse_data(my_file) -> list:\n",
    "    with open(my_file) as f:\n",
    "        return [int(num) for num in f.readlines()]"
   ]
  },
  {
   "cell_type": "code",
   "execution_count": null,
   "id": "22242776-cb8f-46df-ac98-aae879a38625",
   "metadata": {},
   "outputs": [],
   "source": [
    "def mix_prune(secret:int, num:int) -> int:\n",
    "    return (secret ^ num) % 16777216"
   ]
  },
  {
   "cell_type": "code",
   "execution_count": null,
   "id": "bdbc23a7-2348-4a59-8176-a3e72c7c61a1",
   "metadata": {},
   "outputs": [],
   "source": [
    "def part1(data:list) -> int:\n",
    "    total = 0\n",
    "    changes4 = defaultdict(list)\n",
    "    for x in data:\n",
    "        prev = x%10\n",
    "        change = (prev,)\n",
    "        first = set()\n",
    "        for _ in range(2000):\n",
    "            x = mix_prune(x,x*64)\n",
    "            x = mix_prune(x,x//32)\n",
    "            x = mix_prune(x,x*2048)\n",
    "            last = x%10\n",
    "            if len(change)>3:\n",
    "                change = change[1:]+(last-prev,)\n",
    "                if change not in first:\n",
    "                    changes4[change].append(last)\n",
    "                    first.add(change)\n",
    "            else:\n",
    "                change+=(last-prev,)\n",
    "            prev = last\n",
    "        total+=x\n",
    "    return total, max(sum(nums) for nums in changes4.values())"
   ]
  },
  {
   "cell_type": "code",
   "execution_count": null,
   "id": "3983ab32-a643-4f84-9a29-7c0f18d9455c",
   "metadata": {},
   "outputs": [],
   "source": [
    "%%time\n",
    "data = parse_data('raw.txt')\n",
    "p1 = part1(data)\n",
    "print('Part 1: ', p1[0])\n",
    "print('Part 2: ', p1[1])"
   ]
  },
  {
   "cell_type": "code",
   "execution_count": null,
   "id": "7a08f567-11bf-401d-b3a1-519e0825b110",
   "metadata": {},
   "outputs": [],
   "source": []
  }
 ],
 "metadata": {
  "kernelspec": {
   "display_name": "anaconda-ai-2024.04-py310",
   "language": "python",
   "name": "conda-env-anaconda-ai-2024.04-py310-py"
  },
  "language_info": {
   "codemirror_mode": {
    "name": "ipython",
    "version": 3
   },
   "file_extension": ".py",
   "mimetype": "text/x-python",
   "name": "python",
   "nbconvert_exporter": "python",
   "pygments_lexer": "ipython3",
   "version": "3.10.13"
  }
 },
 "nbformat": 4,
 "nbformat_minor": 5
}
