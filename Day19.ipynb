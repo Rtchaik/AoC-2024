{
 "cells": [
  {
   "cell_type": "code",
   "execution_count": null,
   "id": "8b51862e-e11d-4310-916b-1ac8f5a730a3",
   "metadata": {},
   "outputs": [],
   "source": [
    "from collections import defaultdict\n",
    "from functools import cache\n",
    "import re"
   ]
  },
  {
   "cell_type": "code",
   "execution_count": null,
   "id": "0924bf6e-6808-419a-97e7-8f9c8969ea7a",
   "metadata": {
    "editable": true,
    "slideshow": {
     "slide_type": ""
    },
    "tags": []
   },
   "outputs": [],
   "source": [
    "def parse_data(my_file) -> tuple:\n",
    "    with open(my_file) as f:\n",
    "        patterns, designs = tuple(re.findall('\\w+', part) for part in f.read().split('\\n\\n'))\n",
    "        patterns_dict = defaultdict(list)\n",
    "        for pat in patterns:\n",
    "            patterns_dict[pat[0]].append(pat)\n",
    "        return patterns_dict, designs"
   ]
  },
  {
   "cell_type": "code",
   "execution_count": null,
   "id": "a651e3a0-c632-4350-a2a5-75294b8c02e7",
   "metadata": {},
   "outputs": [],
   "source": [
    "@cache\n",
    "def check_des(design: str) -> int:\n",
    "    global patterns\n",
    "    if not design:\n",
    "        return 1\n",
    "    total = 0\n",
    "    for pat in patterns.get(design[0],[]):\n",
    "        if design.startswith(pat):\n",
    "            total+= check_des(design.removeprefix(pat))\n",
    "    return total"
   ]
  },
  {
   "cell_type": "code",
   "execution_count": null,
   "id": "bdbc23a7-2348-4a59-8176-a3e72c7c61a1",
   "metadata": {},
   "outputs": [],
   "source": [
    "def part1(designs: list) -> int:\n",
    "    return sum(check_des(des)>0 for des in designs)"
   ]
  },
  {
   "cell_type": "code",
   "execution_count": null,
   "id": "57f151fa-485f-4c3d-af2a-9ffb4c943cac",
   "metadata": {},
   "outputs": [],
   "source": [
    "def part2(designs:list) -> int:\n",
    "    return sum(check_des(des) for des in designs)"
   ]
  },
  {
   "cell_type": "code",
   "execution_count": null,
   "id": "3983ab32-a643-4f84-9a29-7c0f18d9455c",
   "metadata": {},
   "outputs": [],
   "source": [
    "%%time\n",
    "data = parse_data('raw.txt')\n",
    "patterns = data[0]\n",
    "print('Part 1: ', part1(data[1]))\n",
    "print('Part 2: ', part2(data[1]))"
   ]
  },
  {
   "cell_type": "code",
   "execution_count": null,
   "id": "56945f47-4f84-4fb5-b7db-dd82e72d1709",
   "metadata": {},
   "outputs": [],
   "source": []
  }
 ],
 "metadata": {
  "kernelspec": {
   "display_name": "anaconda-ai-2024.04-py310",
   "language": "python",
   "name": "conda-env-anaconda-ai-2024.04-py310-py"
  },
  "language_info": {
   "codemirror_mode": {
    "name": "ipython",
    "version": 3
   },
   "file_extension": ".py",
   "mimetype": "text/x-python",
   "name": "python",
   "nbconvert_exporter": "python",
   "pygments_lexer": "ipython3",
   "version": "3.10.13"
  }
 },
 "nbformat": 4,
 "nbformat_minor": 5
}
