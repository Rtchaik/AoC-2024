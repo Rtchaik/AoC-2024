{
 "cells": [
  {
   "cell_type": "code",
   "execution_count": null,
   "id": "0924bf6e-6808-419a-97e7-8f9c8969ea7a",
   "metadata": {
    "editable": true,
    "slideshow": {
     "slide_type": ""
    },
    "tags": []
   },
   "outputs": [],
   "source": [
    "def parse_data(my_file) -> tuple:\n",
    "    with open(my_file) as f:\n",
    "        schematics = f.read().split('\\n\\n')\n",
    "        keys = []\n",
    "        locks = []\n",
    "        for scheme in schematics:\n",
    "            pins = [p.count('#') for p in zip(*scheme.split('\\n'))]\n",
    "            if scheme.startswith('#'):\n",
    "                locks.append(pins)\n",
    "            else:\n",
    "                keys.append(pins)\n",
    "        return locks, keys"
   ]
  },
  {
   "cell_type": "code",
   "execution_count": null,
   "id": "bdbc23a7-2348-4a59-8176-a3e72c7c61a1",
   "metadata": {},
   "outputs": [],
   "source": [
    "def part1(locks:list, keys:list) -> int:\n",
    "    return sum(all(sum(pair)<=7 for pair in zip(lock,key)) for lock in locks for key in keys)"
   ]
  },
  {
   "cell_type": "code",
   "execution_count": null,
   "id": "3983ab32-a643-4f84-9a29-7c0f18d9455c",
   "metadata": {},
   "outputs": [],
   "source": [
    "%%time\n",
    "data = parse_data('raw.txt')\n",
    "print('Part 1: ', part1(*data))"
   ]
  },
  {
   "cell_type": "code",
   "execution_count": null,
   "id": "20c9ba30-37b9-43cb-82f2-c67873d0e907",
   "metadata": {},
   "outputs": [],
   "source": []
  }
 ],
 "metadata": {
  "kernelspec": {
   "display_name": "anaconda-ai-2024.04-py310",
   "language": "python",
   "name": "conda-env-anaconda-ai-2024.04-py310-py"
  },
  "language_info": {
   "codemirror_mode": {
    "name": "ipython",
    "version": 3
   },
   "file_extension": ".py",
   "mimetype": "text/x-python",
   "name": "python",
   "nbconvert_exporter": "python",
   "pygments_lexer": "ipython3",
   "version": "3.10.13"
  }
 },
 "nbformat": 4,
 "nbformat_minor": 5
}
