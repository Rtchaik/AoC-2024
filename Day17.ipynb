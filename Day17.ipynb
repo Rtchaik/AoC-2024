{
 "cells": [
  {
   "cell_type": "code",
   "execution_count": null,
   "id": "54481016-595e-4c27-9d22-4a00cb4678be",
   "metadata": {},
   "outputs": [],
   "source": [
    "import re\n",
    "from copy import deepcopy"
   ]
  },
  {
   "cell_type": "code",
   "execution_count": null,
   "id": "0924bf6e-6808-419a-97e7-8f9c8969ea7a",
   "metadata": {
    "editable": true,
    "slideshow": {
     "slide_type": ""
    },
    "tags": []
   },
   "outputs": [],
   "source": [
    "def parse_data(my_file) -> tuple:\n",
    "    with open(my_file) as f:\n",
    "        registers, program = f.read().split('\\n\\n')\n",
    "        registers = {(x:=re.match('Register (\\w): (\\d+)',reg).groups())[0]:int(x[1]) for reg in registers.split('\\n')}\n",
    "        registers |= {str(num):num for num in range(4)}\n",
    "        program = [int(num) for num in re.findall('\\d',program)]\n",
    "        return registers,program"
   ]
  },
  {
   "cell_type": "code",
   "execution_count": null,
   "id": "bdbc23a7-2348-4a59-8176-a3e72c7c61a1",
   "metadata": {},
   "outputs": [],
   "source": [
    "def run_prog(regs:dict, program:list) -> list:\n",
    "    combos = '0123ABC'\n",
    "    idx = 0\n",
    "    out = []\n",
    "    while idx < len(program):\n",
    "        opcode = program[idx]\n",
    "        operand = program[idx+1]\n",
    "        idx+=2\n",
    "        match opcode:\n",
    "            case 0|6|7:\n",
    "                regs['A.....BC'[opcode]] = regs['A']//2**regs[combos[operand]]\n",
    "            case 1|4:\n",
    "                regs['B'] = regs['B'] ^ (operand if opcode == 1 else regs['C'])\n",
    "            case 2:\n",
    "                regs['B'] = regs[combos[operand]] % 8\n",
    "            case 3:\n",
    "                if regs['A'] != 0:\n",
    "                    idx = operand\n",
    "            case 5:\n",
    "                out.append(regs[combos[operand]]%8)\n",
    "    return out"
   ]
  },
  {
   "cell_type": "code",
   "execution_count": null,
   "id": "2d934eb3-5c73-4f28-90f0-c7ab918b983f",
   "metadata": {},
   "outputs": [],
   "source": [
    "def part1(data: tuple) -> str:\n",
    "    return ','.join(str(num) for num in run_prog(*deepcopy(data)))"
   ]
  },
  {
   "cell_type": "code",
   "execution_count": null,
   "id": "57f151fa-485f-4c3d-af2a-9ffb4c943cac",
   "metadata": {},
   "outputs": [],
   "source": [
    "def part2(data:tuple) -> int:\n",
    "    program = data[1]\n",
    "    final_As = [0]\n",
    "    for level in range(-1,-17,-1):\n",
    "        step = 8**(len(program)+level)\n",
    "        new_As = []\n",
    "        for final_A in final_As:\n",
    "            for idx in range(8):\n",
    "                regs = deepcopy(data[0])\n",
    "                new_A = final_A + step * idx \n",
    "                regs['A'] = new_A\n",
    "                if run_prog(regs,program)[level:] == program[level:]:\n",
    "                    new_As.append(new_A)\n",
    "        final_As = new_As\n",
    "    return final_As[0]"
   ]
  },
  {
   "cell_type": "code",
   "execution_count": null,
   "id": "3983ab32-a643-4f84-9a29-7c0f18d9455c",
   "metadata": {},
   "outputs": [],
   "source": [
    "%%time\n",
    "data = parse_data('raw.txt')\n",
    "print('Part 1: ', part1(data))\n",
    "print('Part 2: ', part2(data))"
   ]
  }
 ],
 "metadata": {
  "kernelspec": {
   "display_name": "anaconda-ai-2024.04-py310",
   "language": "python",
   "name": "conda-env-anaconda-ai-2024.04-py310-py"
  },
  "language_info": {
   "codemirror_mode": {
    "name": "ipython",
    "version": 3
   },
   "file_extension": ".py",
   "mimetype": "text/x-python",
   "name": "python",
   "nbconvert_exporter": "python",
   "pygments_lexer": "ipython3",
   "version": "3.10.13"
  }
 },
 "nbformat": 4,
 "nbformat_minor": 5
}
