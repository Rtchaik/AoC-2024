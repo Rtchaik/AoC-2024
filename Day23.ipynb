{
 "cells": [
  {
   "cell_type": "code",
   "execution_count": null,
   "id": "b83b4b16-4377-4bd4-b41b-36218869ceea",
   "metadata": {},
   "outputs": [],
   "source": [
    "from collections import defaultdict\n",
    "from functools import cache\n",
    "from itertools import combinations"
   ]
  },
  {
   "cell_type": "code",
   "execution_count": null,
   "id": "0924bf6e-6808-419a-97e7-8f9c8969ea7a",
   "metadata": {
    "editable": true,
    "slideshow": {
     "slide_type": ""
    },
    "tags": []
   },
   "outputs": [],
   "source": [
    "def parse_data(my_file) -> dict:\n",
    "    with open(my_file) as f:\n",
    "        comps = defaultdict(set)\n",
    "        for pair in f.readlines():\n",
    "            pair = pair.strip().split('-')\n",
    "            comps[pair[0]].add(pair[1])\n",
    "            comps[pair[1]].add(pair[0])\n",
    "        return comps"
   ]
  },
  {
   "cell_type": "code",
   "execution_count": null,
   "id": "4056d4ff-f00a-4b55-b8ce-3079425e1446",
   "metadata": {},
   "outputs": [],
   "source": [
    "def valid(data:dict, comp:str) -> set:\n",
    "    return {pair for pair in combinations(data[comp],2) if pair[1] in data[pair[0]]}"
   ]
  },
  {
   "cell_type": "code",
   "execution_count": null,
   "id": "57f151fa-485f-4c3d-af2a-9ffb4c943cac",
   "metadata": {},
   "outputs": [],
   "source": [
    "def part1(data:dict) -> int:\n",
    "    result = set()\n",
    "    for comp in (c for c in data if c.startswith('t')):\n",
    "        result |= {tuple(sorted((comp,)+pair)) for pair in valid(data,comp)}\n",
    "    return len(result)"
   ]
  },
  {
   "cell_type": "code",
   "execution_count": null,
   "id": "bdbc23a7-2348-4a59-8176-a3e72c7c61a1",
   "metadata": {},
   "outputs": [],
   "source": [
    "@cache\n",
    "def find_groups(comps: tuple) -> list:\n",
    "    global data\n",
    "    return comps if len(comps) <= 1 else max((find_groups(tuple(sorted(data[comp]&set(comps)))) + (comp,) for comp in comps), key=len)"
   ]
  },
  {
   "cell_type": "code",
   "execution_count": null,
   "id": "2ebe3ce5-0288-42da-8e49-48d2daa016f6",
   "metadata": {},
   "outputs": [],
   "source": [
    "def part2(comps: list) -> list:\n",
    "    return ','.join(sorted(find_groups(tuple(sorted(comps)))))"
   ]
  },
  {
   "cell_type": "code",
   "execution_count": null,
   "id": "3983ab32-a643-4f84-9a29-7c0f18d9455c",
   "metadata": {},
   "outputs": [],
   "source": [
    "%%time\n",
    "data = parse_data('raw.txt')\n",
    "print('Part 1: ', part1(data))\n",
    "print('Part 2: ', part2(data.keys()))"
   ]
  }
 ],
 "metadata": {
  "kernelspec": {
   "display_name": "anaconda-ai-2024.04-py310",
   "language": "python",
   "name": "conda-env-anaconda-ai-2024.04-py310-py"
  },
  "language_info": {
   "codemirror_mode": {
    "name": "ipython",
    "version": 3
   },
   "file_extension": ".py",
   "mimetype": "text/x-python",
   "name": "python",
   "nbconvert_exporter": "python",
   "pygments_lexer": "ipython3",
   "version": "3.10.13"
  }
 },
 "nbformat": 4,
 "nbformat_minor": 5
}
