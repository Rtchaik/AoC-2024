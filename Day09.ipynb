{
 "cells": [
  {
   "cell_type": "code",
   "execution_count": 2,
   "id": "2034202a-e100-44b4-a557-efdaba94fcf5",
   "metadata": {},
   "outputs": [],
   "source": [
    "from itertools import count\n",
    "from copy import deepcopy"
   ]
  },
  {
   "cell_type": "code",
   "execution_count": 3,
   "id": "0924bf6e-6808-419a-97e7-8f9c8969ea7a",
   "metadata": {
    "editable": true,
    "slideshow": {
     "slide_type": ""
    },
    "tags": []
   },
   "outputs": [],
   "source": [
    "def solve_day(my_file):\n",
    "    data = parse_data(my_file)\n",
    "    print('Part 1: ', part1(deepcopy(data)))\n",
    "    print('Part 2: ', part2(data))\n",
    "\n",
    "\n",
    "def parse_data(my_file) -> list:\n",
    "    with open(my_file) as f:\n",
    "        return [int(num) for num in f.read().strip()]"
   ]
  },
  {
   "cell_type": "code",
   "execution_count": 4,
   "id": "6e529699-2528-4c65-81e6-6a26a0ce75f3",
   "metadata": {},
   "outputs": [],
   "source": [
    "def part1(data: list) -> int:\n",
    "    total = 0\n",
    "    pos = count()\n",
    "    last_file = len(data)//2\n",
    "    last_len = data.pop()\n",
    "    for idx, block in enumerate(data):\n",
    "        for _ in range(block):\n",
    "            current = next(pos)\n",
    "            if idx%2:\n",
    "                if not last_len:\n",
    "                    try:\n",
    "                        data.pop()\n",
    "                        last_len = data.pop()\n",
    "                        last_file-=1\n",
    "                    except IndexError:\n",
    "                        break\n",
    "                total += current*last_file\n",
    "                last_len-=1\n",
    "            else:\n",
    "                total+= current * (idx//2)\n",
    "    for _ in range(last_len):\n",
    "        total += next(pos)*last_file\n",
    "    return total"
   ]
  },
  {
   "cell_type": "code",
   "execution_count": 5,
   "id": "70dcb006-a462-469c-8186-0792b3f8648c",
   "metadata": {},
   "outputs": [],
   "source": [
    "def part2(data: list) -> int:\n",
    "    total = 0\n",
    "    pos = count()\n",
    "    used = set()\n",
    "    for idx, block in enumerate(data):\n",
    "        if idx not in used and idx%2:\n",
    "            while block:\n",
    "                for r_ind in range(len(data)-1,idx,-2):\n",
    "                    if r_ind not in used and data[r_ind]<=block:\n",
    "                        last_len = data[r_ind]\n",
    "                        last_file = r_ind//2\n",
    "                        used.add(r_ind)\n",
    "                        break\n",
    "                else:\n",
    "                    last_len = block\n",
    "                    last_file = 0\n",
    "                for _ in range(last_len):\n",
    "                    current = next(pos)\n",
    "                    total+=current*last_file\n",
    "                    block-=1\n",
    "        else:\n",
    "            last_file = 0 if idx in used else idx//2\n",
    "            for _ in range(block):\n",
    "                current = next(pos)\n",
    "                total+=current*last_file\n",
    "    return total"
   ]
  },
  {
   "cell_type": "code",
   "execution_count": 6,
   "id": "9facbf20-3eff-49d8-89a6-bdd7b9a4f07d",
   "metadata": {
    "editable": true,
    "scrolled": true,
    "slideshow": {
     "slide_type": ""
    },
    "tags": []
   },
   "outputs": [
    {
     "name": "stdout",
     "output_type": "stream",
     "text": [
      "Part 1:  6288707484810\n",
      "Part 2:  6311837662089\n",
      "CPU times: user 1.66 s, sys: 4.53 ms, total: 1.66 s\n",
      "Wall time: 1.69 s\n"
     ]
    }
   ],
   "source": [
    "%time solve_day('raw.txt')"
   ]
  }
 ],
 "metadata": {
  "kernelspec": {
   "display_name": "anaconda-ai-2024.04-py310",
   "language": "python",
   "name": "conda-env-anaconda-ai-2024.04-py310-py"
  },
  "language_info": {
   "codemirror_mode": {
    "name": "ipython",
    "version": 3
   },
   "file_extension": ".py",
   "mimetype": "text/x-python",
   "name": "python",
   "nbconvert_exporter": "python",
   "pygments_lexer": "ipython3",
   "version": "3.10.13"
  }
 },
 "nbformat": 4,
 "nbformat_minor": 5
}
