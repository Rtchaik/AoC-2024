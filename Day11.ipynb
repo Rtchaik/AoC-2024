{
 "cells": [
  {
   "cell_type": "code",
   "execution_count": 1,
   "id": "ca599304-5b3b-4bba-9dc0-4093102c5598",
   "metadata": {},
   "outputs": [],
   "source": [
    "from functools import cache"
   ]
  },
  {
   "cell_type": "code",
   "execution_count": 2,
   "id": "0924bf6e-6808-419a-97e7-8f9c8969ea7a",
   "metadata": {
    "editable": true,
    "slideshow": {
     "slide_type": ""
    },
    "tags": []
   },
   "outputs": [],
   "source": [
    "def solve_day(my_file):\n",
    "    data = parse_data(my_file)\n",
    "    print('Part 1: ', part1(data))\n",
    "    print('Part 2: ', part2(data))\n",
    "\n",
    "\n",
    "def parse_data(my_file) -> list:\n",
    "    with open(my_file) as f:\n",
    "        return [int(num) for num in f.read().split()]"
   ]
  },
  {
   "cell_type": "code",
   "execution_count": 3,
   "id": "ea2614a5-ab25-404c-bddc-33052b8525ea",
   "metadata": {},
   "outputs": [],
   "source": [
    "@cache\n",
    "def count_stones(stone: int, steps:int) -> int:\n",
    "    if steps == 0:\n",
    "        return 1\n",
    "    if not (ln:=divmod(len(str_stone:=str(stone)),2))[1]:\n",
    "        return sum(count_stones(int(st),steps-1) for st in [str_stone[:ln[0]],str_stone[ln[0]:]])\n",
    "    else:\n",
    "        return count_stones(stone*2024 if stone else 1,steps-1)"
   ]
  },
  {
   "cell_type": "code",
   "execution_count": 4,
   "id": "bdbc23a7-2348-4a59-8176-a3e72c7c61a1",
   "metadata": {},
   "outputs": [],
   "source": [
    "def part1(data:list) -> int:\n",
    "    return sum(count_stones(stone,25) for stone in data)"
   ]
  },
  {
   "cell_type": "code",
   "execution_count": 5,
   "id": "57f151fa-485f-4c3d-af2a-9ffb4c943cac",
   "metadata": {},
   "outputs": [],
   "source": [
    "def part2(data:list) -> int:\n",
    "    return sum(count_stones(stone,75) for stone in data)"
   ]
  },
  {
   "cell_type": "code",
   "execution_count": null,
   "id": "0f613f97-9376-47da-b537-ee3177f02957",
   "metadata": {},
   "outputs": [],
   "source": []
  }
 ],
 "metadata": {
  "kernelspec": {
   "display_name": "anaconda-ai-2024.04-py310",
   "language": "python",
   "name": "conda-env-anaconda-ai-2024.04-py310-py"
  },
  "language_info": {
   "codemirror_mode": {
    "name": "ipython",
    "version": 3
   },
   "file_extension": ".py",
   "mimetype": "text/x-python",
   "name": "python",
   "nbconvert_exporter": "python",
   "pygments_lexer": "ipython3",
   "version": "3.10.13"
  }
 },
 "nbformat": 4,
 "nbformat_minor": 5
}
