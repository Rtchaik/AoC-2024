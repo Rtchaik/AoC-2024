{
 "cells": [
  {
   "cell_type": "code",
   "execution_count": 1,
   "id": "2034202a-e100-44b4-a557-efdaba94fcf5",
   "metadata": {},
   "outputs": [],
   "source": [
    "import numpy as np"
   ]
  },
  {
   "cell_type": "code",
   "execution_count": 2,
   "id": "0924bf6e-6808-419a-97e7-8f9c8969ea7a",
   "metadata": {
    "editable": true,
    "slideshow": {
     "slide_type": ""
    },
    "tags": []
   },
   "outputs": [],
   "source": [
    "def solve_day(my_file):\n",
    "    data = parse_data(my_file)\n",
    "    trails = routes(data)\n",
    "    print('Part 1: ', part1(trails))\n",
    "    print('Part 2: ', part2(trails))\n",
    "\n",
    "\n",
    "def parse_data(my_file) -> list:\n",
    "    with open(my_file) as f:\n",
    "        return np.array([[int(num) for num in line.strip()] for line in f])"
   ]
  },
  {
   "cell_type": "code",
   "execution_count": 3,
   "id": "c313b9b2-37b2-4cb4-8176-76577a36980b",
   "metadata": {},
   "outputs": [],
   "source": [
    "def closest(y:int, x:int, my: int, mx:int) -> list:\n",
    "    return [p for p in [(y,x+1), (y,x-1), (y+1,x), (y-1,x)] if (0<=p[0]<my and 0<=p[1]<mx)]"
   ]
  },
  {
   "cell_type": "code",
   "execution_count": 4,
   "id": "6e529699-2528-4c65-81e6-6a26a0ce75f3",
   "metadata": {},
   "outputs": [],
   "source": [
    "def routes(data:list) -> list:\n",
    "    total=[]\n",
    "    for current in zip(*np.where(data==0)):\n",
    "        current = [current]\n",
    "        for _ in range(9):\n",
    "            current = [p for coord in current for p in closest(*coord, *data.shape) if data[p] - data[coord] ==1]\n",
    "            if not current:\n",
    "                break\n",
    "        total.append(current)\n",
    "    return total"
   ]
  },
  {
   "cell_type": "code",
   "execution_count": 5,
   "id": "bdbc23a7-2348-4a59-8176-a3e72c7c61a1",
   "metadata": {},
   "outputs": [],
   "source": [
    "def part1(trails:list) -> int:\n",
    "    return sum(len(set(r)) for r in trails)"
   ]
  },
  {
   "cell_type": "code",
   "execution_count": 6,
   "id": "57f151fa-485f-4c3d-af2a-9ffb4c943cac",
   "metadata": {},
   "outputs": [],
   "source": [
    "def part2(trails:list) -> int:\n",
    "    return sum(len(r) for r in trails)"
   ]
  },
  {
   "cell_type": "code",
   "execution_count": null,
   "id": "3983ab32-a643-4f84-9a29-7c0f18d9455c",
   "metadata": {},
   "outputs": [],
   "source": []
  }
 ],
 "metadata": {
  "kernelspec": {
   "display_name": "anaconda-ai-2024.04-py310",
   "language": "python",
   "name": "conda-env-anaconda-ai-2024.04-py310-py"
  },
  "language_info": {
   "codemirror_mode": {
    "name": "ipython",
    "version": 3
   },
   "file_extension": ".py",
   "mimetype": "text/x-python",
   "name": "python",
   "nbconvert_exporter": "python",
   "pygments_lexer": "ipython3",
   "version": "3.10.13"
  }
 },
 "nbformat": 4,
 "nbformat_minor": 5
}
