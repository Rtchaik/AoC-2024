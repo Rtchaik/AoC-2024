{
 "cells": [
  {
   "cell_type": "code",
   "execution_count": null,
   "id": "0aee4277-da6d-429b-b2aa-0de763b9ba60",
   "metadata": {},
   "outputs": [],
   "source": [
    "from collections import deque"
   ]
  },
  {
   "cell_type": "code",
   "execution_count": null,
   "id": "0924bf6e-6808-419a-97e7-8f9c8969ea7a",
   "metadata": {
    "editable": true,
    "slideshow": {
     "slide_type": ""
    },
    "tags": []
   },
   "outputs": [],
   "source": [
    "def parse_data(my_file) -> list:\n",
    "    with open(my_file) as f:\n",
    "        return [tuple(int(num) for num in line.split(',')) for line in f.readlines()]"
   ]
  },
  {
   "cell_type": "code",
   "execution_count": null,
   "id": "4e411954-73ef-4428-bf2b-c3c9b390ef95",
   "metadata": {},
   "outputs": [],
   "source": [
    "def part1(corrupted:set, end: tuple = (70,70)) -> int:\n",
    "    dirs = [(1,0),(-1,0),(0,1),(0,-1)]\n",
    "    start = (0,0)\n",
    "    candidates = deque()\n",
    "    candidates.append(start)\n",
    "    visited = {start:0}\n",
    "    while candidates:\n",
    "        current = candidates.popleft()\n",
    "        x, y = current\n",
    "        new_steps = visited[current]+1\n",
    "        valid = {new for dx,dy in dirs if (0<=(new:=(x+dx,y+dy))[0]<=end[0] and 0<=new[1]<=end[1] and new not in visited)} - corrupted\n",
    "        if end in valid:\n",
    "            return new_steps\n",
    "        candidates.extend(valid)\n",
    "        visited |= {v:new_steps for v in valid}\n",
    "    return None"
   ]
  },
  {
   "cell_type": "code",
   "execution_count": null,
   "id": "57f151fa-485f-4c3d-af2a-9ffb4c943cac",
   "metadata": {},
   "outputs": [],
   "source": [
    "def part2(data:list, min_idx: int =1024, end: tuple = (70,70)) -> str:\n",
    "    max_idx = len(data)-1\n",
    "    while min_idx < max_idx -1:\n",
    "        idx = (max_idx+min_idx)//2\n",
    "        if part1(set(data[:idx+1]), end):\n",
    "            min_idx = idx\n",
    "        else:\n",
    "            max_idx = idx\n",
    "    return (','.join(str(num) for num in data[max_idx]))"
   ]
  },
  {
   "cell_type": "code",
   "execution_count": null,
   "id": "3983ab32-a643-4f84-9a29-7c0f18d9455c",
   "metadata": {
    "scrolled": true
   },
   "outputs": [],
   "source": [
    "%%time\n",
    "data = parse_data('raw.txt')\n",
    "print('Part 1: ', part1(set(data[:1024])))\n",
    "print('Part 2: ', part2(data))"
   ]
  },
  {
   "cell_type": "code",
   "execution_count": null,
   "id": "065dd378-e630-4194-a455-8eb6ae880995",
   "metadata": {},
   "outputs": [],
   "source": []
  }
 ],
 "metadata": {
  "kernelspec": {
   "display_name": "anaconda-ai-2024.04-py310",
   "language": "python",
   "name": "conda-env-anaconda-ai-2024.04-py310-py"
  },
  "language_info": {
   "codemirror_mode": {
    "name": "ipython",
    "version": 3
   },
   "file_extension": ".py",
   "mimetype": "text/x-python",
   "name": "python",
   "nbconvert_exporter": "python",
   "pygments_lexer": "ipython3",
   "version": "3.10.13"
  }
 },
 "nbformat": 4,
 "nbformat_minor": 5
}
